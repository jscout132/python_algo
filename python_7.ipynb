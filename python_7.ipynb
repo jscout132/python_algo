{
 "cells": [
  {
   "cell_type": "markdown",
   "metadata": {},
   "source": [
    "# Algorithms, Binary Search & Linked Lists"
   ]
  },
  {
   "cell_type": "markdown",
   "metadata": {},
   "source": [
    "## Tasks Today:\n",
    " \n",
    "1) <b>In-Place Algorithms</b> <br>\n",
    " &nbsp;&nbsp;&nbsp;&nbsp; a) Syntax <br>\n",
    " &nbsp;&nbsp;&nbsp;&nbsp; a) Out of Place Algorithm <br>\n",
    " &nbsp;&nbsp;&nbsp;&nbsp; b) In-Class Exercise #1 <br>\n",
    "2) <b>Two Pointers</b> <br>\n",
    "3) <b>Linked Lists</b> <br>\n",
    "4) <b>Merge Sort</b> <br>\n",
    " &nbsp;&nbsp;&nbsp;&nbsp; a) Video on Algorithms <br>\n",
    " &nbsp;&nbsp;&nbsp;&nbsp; b) How it Works <br>\n",
    "5) <b>Exercises</b> <br>\n",
    " &nbsp;&nbsp;&nbsp;&nbsp; a) Exercise #1 - Reverse a List in Place Using an In-Place Algorithm <br>\n",
    " &nbsp;&nbsp;&nbsp;&nbsp; b) Exercise #2 - Find Distinct Words <br>\n",
    " &nbsp;&nbsp;&nbsp;&nbsp; c) Exercise #3 - Write a program to implement a Linear Search Algorithm. <br>"
   ]
  },
  {
   "cell_type": "markdown",
   "metadata": {},
   "source": [
    "## In-Place Algorithms"
   ]
  },
  {
   "cell_type": "markdown",
   "metadata": {},
   "source": [
    "#### Syntax"
   ]
  },
  {
   "cell_type": "code",
   "execution_count": 3,
   "metadata": {},
   "outputs": [
    {
     "name": "stdout",
     "output_type": "stream",
     "text": [
      "[20, 12, 53]\n",
      "[53, 20, 12]\n"
     ]
    }
   ],
   "source": [
    "# note: this method alters the same list as opposed to created a new list\n",
    "def swap(a_list):\n",
    "    a_list[0], a_list[1], a_list[2] = a_list[2], a_list[1], a_list[0]\n",
    "    return a_list\n",
    "\n",
    "ex_list = [53,12,20]\n",
    "swap(ex_list)\n",
    "print(ex_list)\n",
    "\n",
    "\n",
    "ex_list_two = [53,12,20]\n",
    "def controlSwap(a_list, x, y, z):\n",
    "    a_list[x], a_list[y], a_list[z] = a_list[z], a_list[y], a_list[x]\n",
    "    return a_list\n",
    "\n",
    "# when calling the function, the numbers that are passed control the order\n",
    "# of what is being swapped because they become the x, y, and z that set\n",
    "# the order\n",
    "controlSwap(ex_list_two,1,0,2)\n",
    "print(ex_list_two)"
   ]
  },
  {
   "cell_type": "code",
   "execution_count": 4,
   "metadata": {},
   "outputs": [
    {
     "name": "stdout",
     "output_type": "stream",
     "text": [
      "[14, 84, 90]\n"
     ]
    }
   ],
   "source": [
    "ex_list = [53,12,20]\n",
    "# you can also completely set the list to whatever you want\n",
    "def findOut(a_list):\n",
    "    a_list[0], a_list[1], a_list[2] = 14, 84, 90\n",
    "    return a_list\n",
    "\n",
    "findOut(ex_list)\n",
    "print(ex_list)"
   ]
  },
  {
   "cell_type": "markdown",
   "metadata": {},
   "source": [
    "#### Out of Place Algorithm"
   ]
  },
  {
   "cell_type": "code",
   "execution_count": 28,
   "metadata": {},
   "outputs": [
    {
     "name": "stdout",
     "output_type": "stream",
     "text": [
      "[20, 12, 53]\n",
      "['d', 'c', 'b', 'a']\n",
      "3\n",
      "d\n",
      "['d', 'c', 'b', 'a']\n",
      "2\n",
      "c\n",
      "['d', 'c', 'b', 'a']\n",
      "1\n",
      "b\n",
      "['d', 'c', 'b', 'a']\n"
     ]
    }
   ],
   "source": [
    "# completely reversing and copies to another place in memory\n",
    "# this takes up more memory space than in place algos\n",
    "\n",
    "ex_list = [53,12,20]\n",
    "\n",
    "# copies the list to a new variable and reverses the order\n",
    "ex_list_copy = ex_list[::-1]\n",
    "print(ex_list_copy)\n",
    "\n",
    "array = ['a','b','c','d']\n",
    "\n",
    "# sets the new array to the length of the current array- isn't needed\n",
    "# new_array = ['a'] * len(array)\n",
    "\n",
    "# because length is going to be used to index, and indexing starts at 0,\n",
    "# it needs to be shortened by one\n",
    "# and because it's going to be used more than once, make it a variable\n",
    "length = len(array)-1\n",
    "\n",
    "# for i in 3\n",
    "for i in range(length):\n",
    "#   i starts at 0 so on the first loop, new_array \n",
    "#   is new_array[0] = array[length(3)-0=3] which is d\n",
    "# second loop is\n",
    "#   new_array[1] = array[length(3)-1=2] which is c\n",
    "# third loop is\n",
    "#   new_array[2] = array[length(3)-2=1] which is b\n",
    "# fourth loop is\n",
    "#   new_array[3] = array[length(3)-3=0] which is a\n",
    "    new_array[i] = array[length-i]\n",
    "    print(new_array)\n",
    "    print(length - i)\n",
    "    print(array[length-i])\n",
    "    \n",
    "print(new_array)"
   ]
  },
  {
   "cell_type": "markdown",
   "metadata": {},
   "source": [
    "#### In-Class Exercise #1 <br>\n",
    "<p>Write a function that takes in four arguments (list, index1, index2, index3), and swaps those three positions in the list passed in.</p>"
   ]
  },
  {
   "cell_type": "code",
   "execution_count": 30,
   "metadata": {},
   "outputs": [
    {
     "data": {
      "text/plain": [
       "[3, 4, 10, 8, 4, 2, 6]"
      ]
     },
     "execution_count": 30,
     "metadata": {},
     "output_type": "execute_result"
    }
   ],
   "source": [
    "l_1 = [10, 4, 3, 8, 4, 2, 6]\n",
    "\n",
    "def listSwap(a_list, a, b, c):\n",
    "    a_list[a], a_list[b], a_list[c] = a_list[c], a_list[b], a_list[a]\n",
    "    return a_list\n",
    "\n",
    "listSwap(l_1, 0, 1, 2)"
   ]
  },
  {
   "cell_type": "markdown",
   "metadata": {},
   "source": [
    "## Two Pointers"
   ]
  },
  {
   "cell_type": "markdown",
   "metadata": {},
   "source": [
    "#### Syntax"
   ]
  },
  {
   "cell_type": "code",
   "execution_count": 31,
   "metadata": {},
   "outputs": [
    {
     "data": {
      "text/plain": [
       "[22, 11, 4, 8, 9, 12, 3, 2, 1]"
      ]
     },
     "execution_count": 31,
     "metadata": {},
     "output_type": "execute_result"
    }
   ],
   "source": [
    "def twoPointers(alist):\n",
    "    left = 0\n",
    "    right = len(alist) - 1 #needs len() - 1 because of indexing\n",
    "    while left <= right:\n",
    "        alist[left], alist[right] = alist[right],alist[left]\n",
    "        left += 1\n",
    "        right -= 1\n",
    "    return alist\n",
    "\n",
    "my_list = [1,2,3,12,9,8,4,11,22]\n",
    "twoPointers(my_list)"
   ]
  },
  {
   "cell_type": "markdown",
   "metadata": {},
   "source": [
    "#### Video of Algorithms <br>\n",
    "<p>Watch the video about algorithms.</p>\n",
    "\n",
    "https://www.youtube.com/watch?v=Q9HjeFD62Uk\n",
    "\n",
    "https://www.youtube.com/watch?v=kPRA0W1kECg\n",
    "\n",
    "https://www.youtube.com/watch?v=ZZuD6iUe3Pc"
   ]
  },
  {
   "cell_type": "markdown",
   "metadata": {},
   "source": [
    "# Sorting Algorithms"
   ]
  },
  {
   "cell_type": "markdown",
   "metadata": {},
   "source": [
    "#### Bubble Sort\n",
    "\n",
    "Worst Case: O(n^2) Time - O(1) Space"
   ]
  },
  {
   "cell_type": "code",
   "execution_count": 34,
   "metadata": {},
   "outputs": [
    {
     "data": {
      "text/plain": [
       "[1, 22, 34, 44, 55, 66, 88, 100]"
      ]
     },
     "execution_count": 34,
     "metadata": {},
     "output_type": "execute_result"
    }
   ],
   "source": [
    "def swap(i, j, array):\n",
    "    array[i], array[j] = array[j], array[i]\n",
    "    \n",
    "def bubbleSort(array):\n",
    "    isSorted = False\n",
    "    while not isSorted:\n",
    "        isSorted = True\n",
    "        for num in range(len(array) - 1):\n",
    "            if array[num] > array[num+1]:\n",
    "                swap(num, num + 1, array)\n",
    "                isSorted=False\n",
    "    return array\n",
    "\n",
    "bubbleSort([22,55,88,44,1,100,34,66])\n"
   ]
  },
  {
   "cell_type": "markdown",
   "metadata": {},
   "source": [
    "##### Insertion Sort\n",
    "\n",
    "Worst Case: O(n^2) time - O(1)space"
   ]
  },
  {
   "cell_type": "code",
   "execution_count": 39,
   "metadata": {},
   "outputs": [
    {
     "data": {
      "text/plain": [
       "[1, 22, 34, 44, 55, 66, 88, 100]"
      ]
     },
     "execution_count": 39,
     "metadata": {},
     "output_type": "execute_result"
    }
   ],
   "source": [
    "def swap(i, j, array):\n",
    "    array[i], array[j] = array[j], array[i]\n",
    "    \n",
    "def insertSort(array):\n",
    "    for i in range(1, len(array)):\n",
    "        j = i\n",
    "        while j > 0 and array[j] < array[j-1]:\n",
    "            swap(j, j-1,array)\n",
    "            j-=1\n",
    "    return array\n",
    "\n",
    "insertSort([22,55,88,44,1,100,34,66])\n"
   ]
  },
  {
   "cell_type": "markdown",
   "metadata": {},
   "source": [
    "## Merge Sort"
   ]
  },
  {
   "cell_type": "markdown",
   "metadata": {},
   "source": [
    "#### How it Works"
   ]
  },
  {
   "cell_type": "code",
   "execution_count": 45,
   "metadata": {},
   "outputs": [
    {
     "name": "stdout",
     "output_type": "stream",
     "text": [
      "starting list of numbers: [14, 1, 14, 6, 19]\n",
      "merging [14]\n",
      "merging [1]\n",
      "merging [1, 14]\n",
      "merging [14]\n",
      "merging [6]\n",
      "merging [19]\n",
      "merging [6, 19]\n",
      "merging [6, 14, 19]\n",
      "merging [1, 6, 14, 14, 19]\n"
     ]
    },
    {
     "data": {
      "text/plain": [
       "[1, 6, 14, 14, 19]"
      ]
     },
     "execution_count": 45,
     "metadata": {},
     "output_type": "execute_result"
    }
   ],
   "source": [
    "# step 1: split everything into it's own group\n",
    "# step 2: from left to right, merge two groups together\n",
    "# step 3: while merging, place each item in the correct position within the merged group\n",
    "# step 4: continue step 3 until only one group is left\n",
    "\n",
    "from random import randint\n",
    "\n",
    "nums = [randint(0,20) for i in range(5)]\n",
    "print('starting list of numbers:',nums)\n",
    "def mergeSort(alist):\n",
    "    if len(alist) > 1:\n",
    "        mid = len(alist) // 2\n",
    "        l_half = alist[:mid]\n",
    "        r_half = alist[mid:]\n",
    "        \n",
    "#       recursively call mergeSort to perform splits if needed\n",
    "        mergeSort(l_half)\n",
    "        mergeSort(r_half)\n",
    "        \n",
    "#       set some index pointers\n",
    "        i,j,k = 0,0,0\n",
    "    \n",
    "        while i < len(l_half) and j < len(r_half):\n",
    "            if l_half[i] < r_half[j]:\n",
    "                alist[k] = l_half[i]\n",
    "                i+=1\n",
    "            else:\n",
    "                alist[k] = r_half[j]\n",
    "                j+=1\n",
    "            k+=1\n",
    "            \n",
    "            \n",
    "        while i < len(l_half):\n",
    "            alist[k] = l_half[i]\n",
    "            i+=1\n",
    "            k+=1\n",
    "        while j < len(r_half):\n",
    "            alist[k] = r_half[j]\n",
    "            j+=1\n",
    "            k+=1\n",
    "            \n",
    "    print('merging', alist)\n",
    "    return alist\n",
    "\n",
    "mergeSort(nums)\n",
    "            \n",
    "\n",
    "        "
   ]
  },
  {
   "cell_type": "markdown",
   "metadata": {},
   "source": [
    "# Binary Search\n",
    "\n",
    "The Binary Search algorithm works by finding the number in the middle of a given array and comparing it to the target. Given that the array is sorted\n",
    "\n",
    "* The worst case run time for this algorithm is `O(log(n))`"
   ]
  },
  {
   "cell_type": "code",
   "execution_count": null,
   "metadata": {},
   "outputs": [],
   "source": []
  },
  {
   "cell_type": "markdown",
   "metadata": {},
   "source": [
    "# Exercises"
   ]
  },
  {
   "cell_type": "markdown",
   "metadata": {},
   "source": [
    "### Exercise #1 <br>\n",
    "<p>Reverse the list below in-place using an in-place algorithm.<br>For extra credit: Reverse the strings at the same time.</p>"
   ]
  },
  {
   "cell_type": "code",
   "execution_count": 76,
   "metadata": {},
   "outputs": [
    {
     "name": "stdout",
     "output_type": "stream",
     "text": [
      "['.', 'sentence', 'a', 'is', 'this']\n"
     ]
    }
   ],
   "source": [
    "words = ['this' , 'is', 'a', 'sentence', '.']\n",
    "def controlSwap(a_list, a,b,c,d,e):\n",
    "    a_list[a], a_list[b], a_list[c], a_list[d], a_list[e] = a_list[e], a_list[d], a_list[c], a_list[b], a_list[a]\n",
    "    return a_list\n",
    "\n",
    "\n",
    "controlSwap(words,0,1,2,3,4)\n",
    "print(words)\n",
    "\n"
   ]
  },
  {
   "cell_type": "code",
   "execution_count": 79,
   "metadata": {},
   "outputs": [
    {
     "name": "stdout",
     "output_type": "stream",
     "text": [
      "7\n",
      "['e', 'c', 'n', 'e']\n",
      "7\n",
      "e\n",
      "['e', 'c', 'n', 'e']\n",
      "6\n",
      "c\n",
      "['e', 'c', 'n', 'e']\n",
      "5\n",
      "n\n",
      "['e', 'c', 'n', 'e']\n",
      "4\n",
      "e\n"
     ]
    },
    {
     "ename": "IndexError",
     "evalue": "list assignment index out of range",
     "output_type": "error",
     "traceback": [
      "\u001b[0;31m---------------------------------------------------------------------------\u001b[0m",
      "\u001b[0;31mIndexError\u001b[0m                                Traceback (most recent call last)",
      "\u001b[0;32m/var/folders/jb/g9yszc1s6gz42xhwb5w4fvhm0000gn/T/ipykernel_53039/1814830412.py\u001b[0m in \u001b[0;36m<module>\u001b[0;34m\u001b[0m\n\u001b[1;32m     20\u001b[0m \u001b[0;31m# fourth loop is\u001b[0m\u001b[0;34m\u001b[0m\u001b[0;34m\u001b[0m\u001b[0m\n\u001b[1;32m     21\u001b[0m \u001b[0;31m#   new_array[3] = array[length(3)-3=0] which is a\u001b[0m\u001b[0;34m\u001b[0m\u001b[0;34m\u001b[0m\u001b[0m\n\u001b[0;32m---> 22\u001b[0;31m     \u001b[0mnew_array\u001b[0m\u001b[0;34m[\u001b[0m\u001b[0mi\u001b[0m\u001b[0;34m]\u001b[0m \u001b[0;34m=\u001b[0m \u001b[0marray\u001b[0m\u001b[0;34m[\u001b[0m\u001b[0mlength\u001b[0m\u001b[0;34m-\u001b[0m\u001b[0mi\u001b[0m\u001b[0;34m]\u001b[0m\u001b[0;34m\u001b[0m\u001b[0;34m\u001b[0m\u001b[0m\n\u001b[0m\u001b[1;32m     23\u001b[0m     \u001b[0mprint\u001b[0m\u001b[0;34m(\u001b[0m\u001b[0mnew_array\u001b[0m\u001b[0;34m)\u001b[0m\u001b[0;34m\u001b[0m\u001b[0;34m\u001b[0m\u001b[0m\n\u001b[1;32m     24\u001b[0m     \u001b[0mprint\u001b[0m\u001b[0;34m(\u001b[0m\u001b[0mlength\u001b[0m \u001b[0;34m-\u001b[0m \u001b[0mi\u001b[0m\u001b[0;34m)\u001b[0m\u001b[0;34m\u001b[0m\u001b[0;34m\u001b[0m\u001b[0m\n",
      "\u001b[0;31mIndexError\u001b[0m: list assignment index out of range"
     ]
    }
   ],
   "source": [
    "array = 'sentence'\n",
    "\n",
    "# sets the new array to the length of the current array- isn't needed\n",
    "# new_array = ['a'] * len(array)\n",
    "\n",
    "# because length is going to be used to index, and indexing starts at 0,\n",
    "# it needs to be shortened by one\n",
    "# and because it's going to be used more than once, make it a variable\n",
    "length = len(array)-1\n",
    "print(length)\n",
    "\n",
    "# for i in 3\n",
    "for i in range(length):\n",
    "#   i starts at 0 so on the first loop, new_array \n",
    "#   is new_array[0] = array[length(3)-0=3] which is d\n",
    "# second loop is\n",
    "#   new_array[1] = array[length(3)-1=2] which is c\n",
    "# third loop is\n",
    "#   new_array[2] = array[length(3)-2=1] which is b\n",
    "# fourth loop is\n",
    "#   new_array[3] = array[length(3)-3=0] which is a\n",
    "    new_array[i] = array[length-i]\n",
    "    print(new_array)\n",
    "    print(length - i)\n",
    "    print(array[length-i])\n",
    "    \n",
    "print(new_array)"
   ]
  },
  {
   "cell_type": "code",
   "execution_count": 62,
   "metadata": {},
   "outputs": [
    {
     "name": "stdout",
     "output_type": "stream",
     "text": [
      "['.', 'sentence', 'a', 'is', 'this']\n"
     ]
    }
   ],
   "source": [
    "# note: this method alters the same list as opposed to created a new list\n",
    "def swap(a_list):\n",
    "    a_list[0], a_list[1], a_list[2], a_list[3], a_list[4] = a_list[4], a_list[3], a_list[2], a_list[1], a_list[0]\n",
    "    return a_list\n",
    "\n",
    "words = ['this' , 'is', 'a', 'sentence', '.']\n",
    "\n",
    "swap(words)\n",
    "print(words)\n",
    "\n"
   ]
  },
  {
   "cell_type": "code",
   "execution_count": 70,
   "metadata": {},
   "outputs": [
    {
     "name": "stdout",
     "output_type": "stream",
     "text": [
      "['this', 'is', 'a', 'sentence', '.']\n",
      "0\n",
      "['is', 'this', 'a', 'sentence', '.']\n",
      "1\n",
      "['is', 'a', 'this', 'sentence', '.']\n",
      "2\n",
      "['is', 'a', 'sentence', 'this', '.']\n",
      "3\n",
      "['is', 'a', 'sentence', '.', 'this']\n"
     ]
    },
    {
     "data": {
      "text/plain": [
       "['is', 'a', 'sentence', '.', 'this']"
      ]
     },
     "execution_count": 70,
     "metadata": {},
     "output_type": "execute_result"
    }
   ],
   "source": [
    "def swap(a_list):\n",
    "    print(a_list)\n",
    "    for i in range(0,len(a_list)-1):\n",
    "        print(i)\n",
    "        a_list[i], a_list[i+1] = a_list[i+1], a_list[i]\n",
    "        print(a_list)\n",
    "    return a_list\n",
    "        \n",
    "words = ['this' , 'is', 'a', 'sentence', '.']\n",
    "\n",
    "swap(words)"
   ]
  },
  {
   "cell_type": "markdown",
   "metadata": {},
   "source": [
    "### Exercise #2 <br>\n",
    "<p>Create a function that counts how many distinct words are in the string below, then outputs a dictionary with the words as the key and the value as the amount of times that word appears in the string.<br>Should output:<br>{'a': 5,<br>\n",
    " 'abstract': 1,<br>\n",
    " 'an': 3,<br>\n",
    " 'array': 2, ... etc...</p>"
   ]
  },
  {
   "cell_type": "code",
   "execution_count": null,
   "metadata": {},
   "outputs": [],
   "source": [
    "a_text = 'In computing, a hash table hash map is a data structure which implements an associative array abstract data type, a structure that can map keys to values. A hash table uses a hash function to compute an index into an array of buckets or slots from which the desired value can be found'\n",
    "\n"
   ]
  },
  {
   "cell_type": "markdown",
   "metadata": {},
   "source": [
    "## Exercise #3\n",
    "\n",
    "Write a program to implement a Linear Search Algorithm. Also in a comment, write the Time Complexity of the following algorithm.\n",
    "\n",
    "#### Hint: Linear Searching will require searching a list for a given number. "
   ]
  },
  {
   "cell_type": "code",
   "execution_count": null,
   "metadata": {},
   "outputs": [],
   "source": []
  }
 ],
 "metadata": {
  "kernelspec": {
   "display_name": "Python 3 (ipykernel)",
   "language": "python",
   "name": "python3"
  },
  "language_info": {
   "codemirror_mode": {
    "name": "ipython",
    "version": 3
   },
   "file_extension": ".py",
   "mimetype": "text/x-python",
   "name": "python",
   "nbconvert_exporter": "python",
   "pygments_lexer": "ipython3",
   "version": "3.9.13"
  }
 },
 "nbformat": 4,
 "nbformat_minor": 2
}
