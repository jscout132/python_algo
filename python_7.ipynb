{
 "cells": [
  {
   "cell_type": "markdown",
   "metadata": {},
   "source": [
    "# Algorithms, Binary Search & Linked Lists"
   ]
  },
  {
   "cell_type": "markdown",
   "metadata": {},
   "source": [
    "## Tasks Today:\n",
    " \n",
    "1) <b>In-Place Algorithms</b> <br>\n",
    " &nbsp;&nbsp;&nbsp;&nbsp; a) Syntax <br>\n",
    " &nbsp;&nbsp;&nbsp;&nbsp; a) Out of Place Algorithm <br>\n",
    " &nbsp;&nbsp;&nbsp;&nbsp; b) In-Class Exercise #1 <br>\n",
    "2) <b>Two Pointers</b> <br>\n",
    "3) <b>Linked Lists</b> <br>\n",
    "4) <b>Merge Sort</b> <br>\n",
    " &nbsp;&nbsp;&nbsp;&nbsp; a) Video on Algorithms <br>\n",
    " &nbsp;&nbsp;&nbsp;&nbsp; b) How it Works <br>\n",
    "5) <b>Exercises</b> <br>\n",
    " &nbsp;&nbsp;&nbsp;&nbsp; a) Exercise #1 - Reverse a List in Place Using an In-Place Algorithm <br>\n",
    " &nbsp;&nbsp;&nbsp;&nbsp; b) Exercise #2 - Find Distinct Words <br>\n",
    " &nbsp;&nbsp;&nbsp;&nbsp; c) Exercise #3 - Write a program to implement a Linear Search Algorithm. <br>"
   ]
  },
  {
   "cell_type": "markdown",
   "metadata": {},
   "source": [
    "## In-Place Algorithms"
   ]
  },
  {
   "cell_type": "markdown",
   "metadata": {},
   "source": [
    "#### Syntax"
   ]
  },
  {
   "cell_type": "code",
   "execution_count": null,
   "metadata": {},
   "outputs": [],
   "source": [
    "# note: this method alters the same list as opposed to created a new list\n",
    "def swap(a_list):\n",
    "    a_list[0], a_list[1], a_list[2] = a_list[2], a_list[1], a_list[0]\n",
    "    return a_list\n",
    "\n",
    "ex_list = [53,12,20]\n",
    "swap(ex_list)\n",
    "print(ex_list)\n",
    "\n",
    "\n",
    "ex_list_two = [53,12,20]\n",
    "def controlSwap(a_list, x, y, z):\n",
    "    a_list[x], a_list[y], a_list[z] = a_list[z], a_list[y], a_list[x]\n",
    "    return a_list\n",
    "\n",
    "# when calling the function, the numbers that are passed control the order\n",
    "# of what is being swapped because they become the x, y, and z that set\n",
    "# the order\n",
    "controlSwap(ex_list_two,1,0,2)\n",
    "print(ex_list_two)"
   ]
  },
  {
   "cell_type": "code",
   "execution_count": null,
   "metadata": {},
   "outputs": [],
   "source": [
    "ex_list = [53,12,20]\n",
    "# you can also completely set the list to whatever you want\n",
    "def findOut(a_list):\n",
    "    a_list[0], a_list[1], a_list[2] = 14, 84, 90\n",
    "    return a_list\n",
    "\n",
    "findOut(ex_list)\n",
    "print(ex_list)"
   ]
  },
  {
   "cell_type": "markdown",
   "metadata": {},
   "source": [
    "#### Out of Place Algorithm"
   ]
  },
  {
   "cell_type": "code",
   "execution_count": null,
   "metadata": {},
   "outputs": [],
   "source": [
    "# completely reversing and copies to another place in memory\n",
    "# this takes up more memory space than in place algos\n",
    "\n",
    "ex_list = [53,12,20]\n",
    "\n",
    "# copies the list to a new variable and reverses the order\n",
    "ex_list_copy = ex_list[::-1]\n",
    "print(ex_list_copy)\n",
    "\n",
    "array = ['a','b','c','d']\n",
    "\n",
    "# sets the new array to the length of the current array- isn't needed\n",
    "# new_array = ['a'] * len(array)\n",
    "\n",
    "# because length is going to be used to index, and indexing starts at 0,\n",
    "# it needs to be shortened by one\n",
    "# and because it's going to be used more than once, make it a variable\n",
    "length = len(array)-1\n",
    "\n",
    "# for i in 3\n",
    "for i in range(length):\n",
    "#   i starts at 0 so on the first loop, new_array \n",
    "#   is new_array[0] = array[length(3)-0=3] which is d\n",
    "# second loop is\n",
    "#   new_array[1] = array[length(3)-1=2] which is c\n",
    "# third loop is\n",
    "#   new_array[2] = array[length(3)-2=1] which is b\n",
    "# fourth loop is\n",
    "#   new_array[3] = array[length(3)-3=0] which is a\n",
    "    new_array[i] = array[length-i]\n",
    "    print(new_array)\n",
    "    print(length - i)\n",
    "    print(array[length-i])\n",
    "    \n",
    "print(new_array)"
   ]
  },
  {
   "cell_type": "markdown",
   "metadata": {},
   "source": [
    "#### In-Class Exercise #1 <br>\n",
    "<p>Write a function that takes in four arguments (list, index1, index2, index3), and swaps those three positions in the list passed in.</p>"
   ]
  },
  {
   "cell_type": "code",
   "execution_count": null,
   "metadata": {},
   "outputs": [],
   "source": [
    "l_1 = [10, 4, 3, 8, 4, 2, 6]\n",
    "\n",
    "def listSwap(a_list, a, b, c):\n",
    "    a_list[a], a_list[b], a_list[c] = a_list[c], a_list[b], a_list[a]\n",
    "    return a_list\n",
    "\n",
    "listSwap(l_1, 0, 1, 2)"
   ]
  },
  {
   "cell_type": "markdown",
   "metadata": {},
   "source": [
    "## Two Pointers"
   ]
  },
  {
   "cell_type": "markdown",
   "metadata": {},
   "source": [
    "#### Syntax"
   ]
  },
  {
   "cell_type": "code",
   "execution_count": null,
   "metadata": {},
   "outputs": [],
   "source": [
    "def twoPointers(alist):\n",
    "    left = 0\n",
    "    right = len(alist) - 1 #needs len() - 1 because of indexing\n",
    "    while left <= right:\n",
    "        alist[left], alist[right] = alist[right],alist[left]\n",
    "        left += 1\n",
    "        right -= 1\n",
    "    return alist\n",
    "\n",
    "my_list = [1,2,3,12,9,8,4,11,22]\n",
    "twoPointers(my_list)"
   ]
  },
  {
   "cell_type": "markdown",
   "metadata": {},
   "source": [
    "#### Video of Algorithms <br>\n",
    "<p>Watch the video about algorithms.</p>\n",
    "\n",
    "https://www.youtube.com/watch?v=Q9HjeFD62Uk\n",
    "\n",
    "https://www.youtube.com/watch?v=kPRA0W1kECg\n",
    "\n",
    "https://www.youtube.com/watch?v=ZZuD6iUe3Pc"
   ]
  },
  {
   "cell_type": "markdown",
   "metadata": {},
   "source": [
    "# Sorting Algorithms"
   ]
  },
  {
   "cell_type": "markdown",
   "metadata": {},
   "source": [
    "#### Bubble Sort\n",
    "\n",
    "Worst Case: O(n^2) Time - O(1) Space"
   ]
  },
  {
   "cell_type": "code",
   "execution_count": null,
   "metadata": {},
   "outputs": [],
   "source": [
    "def swap(i, j, array):\n",
    "    array[i], array[j] = array[j], array[i]\n",
    "    \n",
    "def bubbleSort(array):\n",
    "    isSorted = False\n",
    "    while not isSorted:\n",
    "        isSorted = True\n",
    "        for num in range(len(array) - 1):\n",
    "            if array[num] > array[num+1]:\n",
    "                swap(num, num + 1, array)\n",
    "                isSorted=False\n",
    "    return array\n",
    "\n",
    "bubbleSort([22,55,88,44,1,100,34,66])\n"
   ]
  },
  {
   "cell_type": "markdown",
   "metadata": {},
   "source": [
    "##### Insertion Sort\n",
    "\n",
    "Worst Case: O(n^2) time - O(1)space"
   ]
  },
  {
   "cell_type": "code",
   "execution_count": null,
   "metadata": {},
   "outputs": [],
   "source": [
    "def swap(i, j, array):\n",
    "    array[i], array[j] = array[j], array[i]\n",
    "    \n",
    "def insertSort(array):\n",
    "    for i in range(1, len(array)):\n",
    "        j = i\n",
    "        while j > 0 and array[j] < array[j-1]:\n",
    "            swap(j, j-1,array)\n",
    "            j-=1\n",
    "    return array\n",
    "\n",
    "insertSort([22,55,88,44,1,100,34,66])\n"
   ]
  },
  {
   "cell_type": "markdown",
   "metadata": {},
   "source": [
    "## Merge Sort"
   ]
  },
  {
   "cell_type": "markdown",
   "metadata": {},
   "source": [
    "#### How it Works"
   ]
  },
  {
   "cell_type": "code",
   "execution_count": null,
   "metadata": {},
   "outputs": [],
   "source": [
    "# step 1: split everything into it's own group\n",
    "# step 2: from left to right, merge two groups together\n",
    "# step 3: while merging, place each item in the correct position within the merged group\n",
    "# step 4: continue step 3 until only one group is left\n",
    "\n",
    "from random import randint\n",
    "\n",
    "nums = [randint(0,20) for i in range(5)]\n",
    "print('starting list of numbers:',nums)\n",
    "def mergeSort(alist):\n",
    "    if len(alist) > 1:\n",
    "        mid = len(alist) // 2\n",
    "        l_half = alist[:mid]\n",
    "        r_half = alist[mid:]\n",
    "        \n",
    "#       recursively call mergeSort to perform splits if needed\n",
    "        mergeSort(l_half)\n",
    "        mergeSort(r_half)\n",
    "        \n",
    "#       set some index pointers\n",
    "        i,j,k = 0,0,0\n",
    "    \n",
    "        while i < len(l_half) and j < len(r_half):\n",
    "            if l_half[i] < r_half[j]:\n",
    "                alist[k] = l_half[i]\n",
    "                i+=1\n",
    "            else:\n",
    "                alist[k] = r_half[j]\n",
    "                j+=1\n",
    "            k+=1\n",
    "            \n",
    "            \n",
    "        while i < len(l_half):\n",
    "            alist[k] = l_half[i]\n",
    "            i+=1\n",
    "            k+=1\n",
    "        while j < len(r_half):\n",
    "            alist[k] = r_half[j]\n",
    "            j+=1\n",
    "            k+=1\n",
    "            \n",
    "    print('merging', alist)\n",
    "    return alist\n",
    "\n",
    "mergeSort(nums)\n",
    "            \n",
    "\n",
    "        "
   ]
  },
  {
   "cell_type": "markdown",
   "metadata": {},
   "source": [
    "# Binary Search\n",
    "\n",
    "The Binary Search algorithm works by finding the number in the middle of a given array and comparing it to the target. Given that the array is sorted\n",
    "\n",
    "* The worst case run time for this algorithm is `O(log(n))`"
   ]
  },
  {
   "cell_type": "code",
   "execution_count": null,
   "metadata": {},
   "outputs": [],
   "source": [
    "# less = left\n",
    "# greater = right\n",
    "# list of numbers must be sorted\n",
    "\n",
    "def searchHelper(array, target, left, right):\n",
    "    while left <= right:\n",
    "        middle = (left + right) //2\n",
    "        print(middle)\n",
    "        \n",
    "        #the potential match is the index of the potential match\n",
    "        #it's taking the int we just set as middle and setting  \n",
    "        #potential_match as the index in the array we pass\n",
    "        potential_match = array[middle]\n",
    "        print(potential_match)\n",
    "        if target == potential_match:\n",
    "            return f'The index is {middle}'\n",
    "        elif target < potential_match:\n",
    "            right = middle - 1\n",
    "        else:\n",
    "            left = middle + 1\n",
    "    return -1\n",
    "\n",
    "def binarySearch(array, target):\n",
    "    return searchHelper(array, target, 0, len(array)-1)\n",
    "\n",
    "binarySearch([11,22,33,44,55,66,77,88],11)"
   ]
  },
  {
   "cell_type": "code",
   "execution_count": null,
   "metadata": {},
   "outputs": [],
   "source": [
    "# less = left\n",
    "# greater = right\n",
    "# list of numbers must be sorted\n",
    "\n",
    "def searchHelper(array, target, left, right):\n",
    "    while left <= right:\n",
    "        middle = (left + right) //2\n",
    "        print(middle)\n",
    "        \n",
    "        #the potential match is the index of the potential match\n",
    "        #it's taking the int we just set as middle and setting  \n",
    "        #potential_match as the index in the array we pass\n",
    "        potential_match = array[middle]\n",
    "        print(potential_match)\n",
    "        if target == potential_match:\n",
    "            return f'The index is {middle}'\n",
    "        elif target < potential_match:\n",
    "            right = middle - 1\n",
    "        else:\n",
    "            left = middle + 1\n",
    "    return -1\n",
    "\n",
    "\n",
    "def binarySearch(array, target):\n",
    "    return searchHelper(array, target, 0, len(array)-1)\n",
    "\n",
    "binarySearch([11,22,33,44,55,66,77,88],11)"
   ]
  },
  {
   "cell_type": "markdown",
   "metadata": {},
   "source": [
    "# Exercises"
   ]
  },
  {
   "cell_type": "markdown",
   "metadata": {},
   "source": [
    "### Exercise #1 <br>\n",
    "<p>Reverse the list below in-place using an in-place algorithm.<br>For extra credit: Reverse the strings at the same time.</p>"
   ]
  },
  {
   "cell_type": "code",
   "execution_count": 13,
   "metadata": {},
   "outputs": [
    {
     "name": "stdout",
     "output_type": "stream",
     "text": [
      "['.', 'ecnetnes', 'a', 'si', 'siht']\n"
     ]
    }
   ],
   "source": [
    "words = ['this' , 'is', 'a', 'sentence', '.']\n",
    "def controlSwap(a_list, a,b,c,d,e):\n",
    "    a_list[a], a_list[b], a_list[c], a_list[d], a_list[e] = a_list[e][::-1], a_list[d][::-1], a_list[c][::-1], a_list[b][::-1], a_list[a][::-1]\n",
    "    return a_list\n",
    "\n",
    "controlSwap(words,0,1,2,3,4)\n",
    "print(words)"
   ]
  },
  {
   "cell_type": "markdown",
   "metadata": {},
   "source": [
    "### Exercise #2 <br>\n",
    "<p>Create a function that counts how many distinct words are in the string below, then outputs a dictionary with the words as the key and the value as the amount of times that word appears in the string.<br>Should output:<br>{'a': 5,<br>\n",
    " 'abstract': 1,<br>\n",
    " 'an': 3,<br>\n",
    " 'array': 2, ... etc...</p>"
   ]
  },
  {
   "cell_type": "code",
   "execution_count": 12,
   "metadata": {},
   "outputs": [
    {
     "data": {
      "text/plain": [
       "{'a': 5,\n",
       " 'abstract': 1,\n",
       " 'an': 3,\n",
       " 'array': 2,\n",
       " 'associative': 1,\n",
       " 'be': 1,\n",
       " 'buckets': 1,\n",
       " 'can': 2,\n",
       " 'compute': 1,\n",
       " 'computing,': 1,\n",
       " 'data': 2,\n",
       " 'desired': 1,\n",
       " 'found': 1,\n",
       " 'from': 1,\n",
       " 'function': 1,\n",
       " 'hash': 4,\n",
       " 'implements': 1,\n",
       " 'in': 1,\n",
       " 'index': 1,\n",
       " 'into': 1,\n",
       " 'is': 1,\n",
       " 'keys': 1,\n",
       " 'map': 2,\n",
       " 'of': 1,\n",
       " 'or': 1,\n",
       " 'slots': 1,\n",
       " 'structure': 2,\n",
       " 'table': 2,\n",
       " 'that': 1,\n",
       " 'the': 1,\n",
       " 'to': 2,\n",
       " 'type,': 1,\n",
       " 'uses': 1,\n",
       " 'value': 1,\n",
       " 'values.': 1,\n",
       " 'which': 2}"
      ]
     },
     "execution_count": 12,
     "metadata": {},
     "output_type": "execute_result"
    }
   ],
   "source": [
    "a_text = 'In computing, a hash table hash map is a data structure which implements an associative array abstract data type, a structure that can map keys to values. A hash table uses a hash function to compute an index into an array of buckets or slots from which the desired value can be found'\n",
    "\n",
    "def wordCounts(text):\n",
    "    text = text.lower()\n",
    "    l_text = list(text.split())\n",
    "    word_dict = {}\n",
    "    for word in l_text:\n",
    "        word = word.lower()\n",
    "        word_count = l_text.count(word)    \n",
    "        word_dict[word] = word_count\n",
    "\n",
    "    alpha_words = dict(sorted(word_dict.items(), key = lambda x: x[0]))\n",
    "    return alpha_words\n",
    "\n",
    "wordCounts(a_text)\n",
    "    "
   ]
  },
  {
   "cell_type": "markdown",
   "metadata": {},
   "source": [
    "## Exercise #3\n",
    "\n",
    "Write a program to implement a Linear Search Algorithm. Also in a comment, write the Time Complexity of the following algorithm.\n",
    "\n",
    "#### Hint: Linear Searching will require searching a list for a given number. "
   ]
  },
  {
   "cell_type": "code",
   "execution_count": 11,
   "metadata": {},
   "outputs": [
    {
     "data": {
      "text/plain": [
       "'the index is: 3'"
      ]
     },
     "execution_count": 11,
     "metadata": {},
     "output_type": "execute_result"
    }
   ],
   "source": [
    "nums_list = [10,23,45,70,11,15]\n",
    "target = 70\n",
    "# if target number is not present, return -1\n",
    "# Time Complexity is linear O(n), space complexity is constant O(1)\n",
    "def linSearch(array, num):\n",
    "    for i in range(len(array)):\n",
    "        if array[i] == num:\n",
    "            return f'the index is: {i}'\n",
    "    return -1 \n",
    "linSearch(nums_list, target)"
   ]
  },
  {
   "cell_type": "code",
   "execution_count": null,
   "metadata": {},
   "outputs": [],
   "source": []
  }
 ],
 "metadata": {
  "kernelspec": {
   "display_name": "Python 3 (ipykernel)",
   "language": "python",
   "name": "python3"
  },
  "language_info": {
   "codemirror_mode": {
    "name": "ipython",
    "version": 3
   },
   "file_extension": ".py",
   "mimetype": "text/x-python",
   "name": "python",
   "nbconvert_exporter": "python",
   "pygments_lexer": "ipython3",
   "version": "3.11.1"
  },
  "vscode": {
   "interpreter": {
    "hash": "aee8b7b246df8f9039afb4144a1f6fd8d2ca17a180786b69acc140d282b71a49"
   }
  }
 },
 "nbformat": 4,
 "nbformat_minor": 2
}
